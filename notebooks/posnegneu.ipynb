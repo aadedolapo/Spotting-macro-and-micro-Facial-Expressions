{
 "cells": [
  {
   "cell_type": "code",
   "execution_count": 1,
   "metadata": {},
   "outputs": [],
   "source": [
    "import os\n",
    "import shutil"
   ]
  },
  {
   "cell_type": "markdown",
   "metadata": {},
   "source": [
    "# FER2013 Dataset\n",
    "## create a positive, neutral, and negative folder for each datasets and subfolders\n",
    "\n",
    "* Positive >> Happy\n",
    "* Neutral >>> Neutral\n",
    "* Negative >> Sad, Disgust, Fear, Contempt, Anger\n",
    "  \n",
    "### move all images from each class folder into its corresponding folder"
   ]
  },
  {
   "cell_type": "code",
   "execution_count": 15,
   "metadata": {},
   "outputs": [],
   "source": [
    "folders = ['train','val', 'test']"
   ]
  },
  {
   "cell_type": "markdown",
   "metadata": {},
   "source": [
    "#### move happy images into positive"
   ]
  },
  {
   "cell_type": "code",
   "execution_count": 16,
   "metadata": {},
   "outputs": [],
   "source": [
    "for folder in folders:\n",
    "  # Loop through all folders\n",
    "  src_folder = r\"C:\\Users\\kings\\OneDrive - MMU\\MSC DATA SCIENCE\\MSC Project\\datasets\\fer\\fer_train_val_test\" + \"\\\\\" + folder +  \"\\\\\" + \"happy\"\n",
    "  dest_folder = r\"C:\\Users\\kings\\OneDrive - MMU\\MSC DATA SCIENCE\\MSC Project\\datasets\\fer\\fer_train_val_test\" + \"\\\\\" + folder + \"\\\\\" + \"positive\"\n",
    "  \n",
    "  # move all images from each class folder into a combine folder\n",
    "  os.makedirs(r\"C:\\Users\\kings\\OneDrive - MMU\\MSC DATA SCIENCE\\MSC Project\\datasets\\fer\\fer_train_val_test\" + \"\\\\\" + folder + \"\\\\\" + \"positive\", exist_ok=True) # make a new directory \n",
    "  # Get all files in the source folder\n",
    "  files = os.listdir(src_folder)\n",
    "  # Loop through all the files and move them to the destination folder\n",
    "  for file in files:\n",
    "      # Get the full path of the file\n",
    "      file_path = os.path.join(src_folder, file)\n",
    "      # Move the file to the destination folder\n",
    "      shutil.move(file_path, dest_folder)\n"
   ]
  },
  {
   "cell_type": "code",
   "execution_count": 17,
   "metadata": {},
   "outputs": [],
   "source": [
    "# remove all happy folders in the all folders folder\n",
    "for folder in folders:\n",
    "  shutil.rmtree(r\"C:\\Users\\kings\\OneDrive - MMU\\MSC DATA SCIENCE\\MSC Project\\datasets\\fer\\fer_train_val_test\" +\"\\\\\" + folder + \"\\\\\" + \"happy\")"
   ]
  },
  {
   "cell_type": "markdown",
   "metadata": {},
   "source": [
    "#### move sad,disgust,fear,contempt,anger images into negative"
   ]
  },
  {
   "cell_type": "code",
   "execution_count": 18,
   "metadata": {},
   "outputs": [],
   "source": [
    "classes = ['sad','disgust','fear','contempt','anger']"
   ]
  },
  {
   "cell_type": "code",
   "execution_count": 19,
   "metadata": {},
   "outputs": [],
   "source": [
    "for folder in folders:\n",
    "  for class_ in classes:\n",
    "    # Loop through all folders\n",
    "    src_folder = r\"C:\\Users\\kings\\OneDrive - MMU\\MSC DATA SCIENCE\\MSC Project\\datasets\\fer\\fer_train_val_test\" + \"\\\\\" + folder +  \"\\\\\" + class_\n",
    "    dest_folder = r\"C:\\Users\\kings\\OneDrive - MMU\\MSC DATA SCIENCE\\MSC Project\\datasets\\fer\\fer_train_val_test\" + \"\\\\\" + folder + \"\\\\\" + \"negative\"\n",
    "    \n",
    "    # move all images from each class folder into a combine folder\n",
    "    os.makedirs(r\"C:\\Users\\kings\\OneDrive - MMU\\MSC DATA SCIENCE\\MSC Project\\datasets\\fer\\fer_train_val_test\" + \"\\\\\" + folder + \"\\\\\" + \"negative\", exist_ok=True) # make a new directory \n",
    "    # Get all files in the source folder\n",
    "    files = os.listdir(src_folder)\n",
    "    # Loop through all the files and move them to the destination folder\n",
    "    for file in files:\n",
    "        # Get the full path of the file\n",
    "        file_path = os.path.join(src_folder, file)\n",
    "        # Move the file to the destination folder\n",
    "        shutil.move(file_path, dest_folder)\n"
   ]
  },
  {
   "cell_type": "code",
   "execution_count": 20,
   "metadata": {},
   "outputs": [],
   "source": [
    "# remove all happy folders in the all folders folder\n",
    "for folder in folders:\n",
    "  for class_ in classes:\n",
    "   shutil.rmtree(r\"C:\\Users\\kings\\OneDrive - MMU\\MSC DATA SCIENCE\\MSC Project\\datasets\\fer\\fer_train_val_test\" +\"\\\\\" + folder + \"\\\\\" + class_)"
   ]
  },
  {
   "cell_type": "code",
   "execution_count": null,
   "metadata": {},
   "outputs": [],
   "source": []
  },
  {
   "cell_type": "markdown",
   "metadata": {},
   "source": [
    "# FER2013 Dataset (mediapipe)\n",
    "## create a positive, neutral, and negative folder for each datasets and subfolders\n",
    "\n",
    "* Positive >> Happy\n",
    "* Neutral >>> Neutral\n",
    "* Negative >> Sad, Disgust, Fear, Contempt, Anger\n",
    "  \n",
    "### move all images from each class folder into its corresponding folder"
   ]
  },
  {
   "cell_type": "code",
   "execution_count": 2,
   "metadata": {},
   "outputs": [],
   "source": [
    "folders = ['train','val', 'test']"
   ]
  },
  {
   "cell_type": "markdown",
   "metadata": {},
   "source": [
    "#### move happy images into positive"
   ]
  },
  {
   "cell_type": "code",
   "execution_count": 3,
   "metadata": {},
   "outputs": [],
   "source": [
    "for folder in folders:\n",
    "  # Loop through all folders\n",
    "  src_folder = r\"C:\\Users\\kings\\OneDrive - MMU\\MSC DATA SCIENCE\\MSC Project\\datasets\\fer_mediapipe\\fer_train_val_test\" + \"\\\\\" + folder +  \"\\\\\" + \"happy\"\n",
    "  dest_folder = r\"C:\\Users\\kings\\OneDrive - MMU\\MSC DATA SCIENCE\\MSC Project\\datasets\\fer_mediapipe\\fer_train_val_test\" + \"\\\\\" + folder + \"\\\\\" + \"positive\"\n",
    "  \n",
    "  # move all images from each class folder into a combine folder\n",
    "  os.makedirs(r\"C:\\Users\\kings\\OneDrive - MMU\\MSC DATA SCIENCE\\MSC Project\\datasets\\fer_mediapipe\\fer_train_val_test\" + \"\\\\\" + folder + \"\\\\\" + \"positive\", exist_ok=True) # make a new directory \n",
    "  # Get all files in the source folder\n",
    "  files = os.listdir(src_folder)\n",
    "  # Loop through all the files and move them to the destination folder\n",
    "  for file in files:\n",
    "      # Get the full path of the file\n",
    "      file_path = os.path.join(src_folder, file)\n",
    "      # Move the file to the destination folder\n",
    "      shutil.move(file_path, dest_folder)\n"
   ]
  },
  {
   "cell_type": "code",
   "execution_count": 4,
   "metadata": {},
   "outputs": [],
   "source": [
    "# remove all happy folders in the all folders folder\n",
    "for folder in folders:\n",
    "  shutil.rmtree(r\"C:\\Users\\kings\\OneDrive - MMU\\MSC DATA SCIENCE\\MSC Project\\datasets\\fer_mediapipe\\fer_train_val_test\" +\"\\\\\" + folder + \"\\\\\" + \"happy\")"
   ]
  },
  {
   "cell_type": "markdown",
   "metadata": {},
   "source": [
    "#### move sad,disgust,fear,contempt,anger images into negative"
   ]
  },
  {
   "cell_type": "code",
   "execution_count": 5,
   "metadata": {},
   "outputs": [],
   "source": [
    "classes = ['sad','disgust','fear','contempt','anger']"
   ]
  },
  {
   "cell_type": "code",
   "execution_count": 6,
   "metadata": {},
   "outputs": [],
   "source": [
    "for folder in folders:\n",
    "  for class_ in classes:\n",
    "    # Loop through all folders\n",
    "    src_folder = r\"C:\\Users\\kings\\OneDrive - MMU\\MSC DATA SCIENCE\\MSC Project\\datasets\\fer_mediapipe\\fer_train_val_test\" + \"\\\\\" + folder +  \"\\\\\" + class_\n",
    "    dest_folder = r\"C:\\Users\\kings\\OneDrive - MMU\\MSC DATA SCIENCE\\MSC Project\\datasets\\fer_mediapipe\\fer_train_val_test\" + \"\\\\\" + folder + \"\\\\\" + \"negative\"\n",
    "    \n",
    "    # move all images from each class folder into a combine folder\n",
    "    os.makedirs(r\"C:\\Users\\kings\\OneDrive - MMU\\MSC DATA SCIENCE\\MSC Project\\datasets\\fer_mediapipe\\fer_train_val_test\" + \"\\\\\" + folder + \"\\\\\" + \"negative\", exist_ok=True) # make a new directory \n",
    "    # Get all files in the source folder\n",
    "    files = os.listdir(src_folder)\n",
    "    # Loop through all the files and move them to the destination folder\n",
    "    for file in files:\n",
    "        # Get the full path of the file\n",
    "        file_path = os.path.join(src_folder, file)\n",
    "        # Move the file to the destination folder\n",
    "        shutil.move(file_path, dest_folder)\n"
   ]
  },
  {
   "cell_type": "code",
   "execution_count": 7,
   "metadata": {},
   "outputs": [],
   "source": [
    "# remove all happy folders in the all folders folder\n",
    "for folder in folders:\n",
    "  for class_ in classes:\n",
    "   shutil.rmtree(r\"C:\\Users\\kings\\OneDrive - MMU\\MSC DATA SCIENCE\\MSC Project\\datasets\\fer_mediapipe\\fer_train_val_test\" +\"\\\\\" + folder + \"\\\\\" + class_)"
   ]
  },
  {
   "cell_type": "markdown",
   "metadata": {},
   "source": [
    "# CKplus Dataset\n",
    "## create a positive, neutral, and negative folder for each datasets and subfolders\n",
    "\n",
    "* Positive >> Happy\n",
    "* Neutral >>> Neutral\n",
    "* Negative >> Sad, Disgust, Fear, Contempt, Anger\n",
    "  \n",
    "### move all images from each class folder into its corresponding folder"
   ]
  },
  {
   "cell_type": "code",
   "execution_count": 15,
   "metadata": {},
   "outputs": [],
   "source": [
    "folders = ['train','val', 'test']"
   ]
  },
  {
   "cell_type": "markdown",
   "metadata": {},
   "source": [
    "#### move happy images into positive"
   ]
  },
  {
   "cell_type": "code",
   "execution_count": 16,
   "metadata": {},
   "outputs": [],
   "source": [
    "for folder in folders:\n",
    "  # Loop through all folders\n",
    "  src_folder = r\"C:\\Users\\kings\\OneDrive - MMU\\MSC DATA SCIENCE\\MSC Project\\datasets\\ckplus\\ckplus_train_val_test\" + \"\\\\\" + folder +  \"\\\\\" + \"happy\"\n",
    "  dest_folder = r\"C:\\Users\\kings\\OneDrive - MMU\\MSC DATA SCIENCE\\MSC Project\\datasets\\ckplus\\ckplus_train_val_test\" + \"\\\\\" + folder + \"\\\\\" + \"positive\"\n",
    "  \n",
    "  # move all images from each class folder into a combine folder\n",
    "  os.makedirs(r\"C:\\Users\\kings\\OneDrive - MMU\\MSC DATA SCIENCE\\MSC Project\\datasets\\ckplus\\ckplus_train_val_test\" + \"\\\\\" + folder + \"\\\\\" + \"positive\", exist_ok=True) # make a new directory \n",
    "  # Get all files in the source folder\n",
    "  files = os.listdir(src_folder)\n",
    "  # Loop through all the files and move them to the destination folder\n",
    "  for file in files:\n",
    "      # Get the full path of the file\n",
    "      file_path = os.path.join(src_folder, file)\n",
    "      # Move the file to the destination folder\n",
    "      shutil.move(file_path, dest_folder)\n"
   ]
  },
  {
   "cell_type": "code",
   "execution_count": 17,
   "metadata": {},
   "outputs": [],
   "source": [
    "# remove all happy folders in the all folders folder\n",
    "for folder in folders:\n",
    "  shutil.rmtree(r\"C:\\Users\\kings\\OneDrive - MMU\\MSC DATA SCIENCE\\MSC Project\\datasets\\ckplus\\ckplus_train_val_test\" +\"\\\\\" + folder + \"\\\\\" + \"happy\")"
   ]
  },
  {
   "cell_type": "markdown",
   "metadata": {},
   "source": [
    "#### move sad,disgust,fear,contempt,anger images into negative"
   ]
  },
  {
   "cell_type": "code",
   "execution_count": 18,
   "metadata": {},
   "outputs": [],
   "source": [
    "classes = ['sad','disgust','fear','contempt','anger']"
   ]
  },
  {
   "cell_type": "code",
   "execution_count": 19,
   "metadata": {},
   "outputs": [],
   "source": [
    "for folder in folders:\n",
    "  for class_ in classes:\n",
    "    # Loop through all folders\n",
    "    src_folder = r\"C:\\Users\\kings\\OneDrive - MMU\\MSC DATA SCIENCE\\MSC Project\\datasets\\ckplus\\ckplus_train_val_test\" + \"\\\\\" + folder +  \"\\\\\" + class_\n",
    "    dest_folder = r\"C:\\Users\\kings\\OneDrive - MMU\\MSC DATA SCIENCE\\MSC Project\\datasets\\ckplus\\ckplus_train_val_test\" + \"\\\\\" + folder + \"\\\\\" + \"negative\"\n",
    "    \n",
    "    # move all images from each class folder into a combine folder\n",
    "    os.makedirs(r\"C:\\Users\\kings\\OneDrive - MMU\\MSC DATA SCIENCE\\MSC Project\\datasets\\ckplus\\ckplus_train_val_test\" + \"\\\\\" + folder + \"\\\\\" + \"negative\", exist_ok=True) # make a new directory \n",
    "    # Get all files in the source folder\n",
    "    files = os.listdir(src_folder)\n",
    "    # Loop through all the files and move them to the destination folder\n",
    "    for file in files:\n",
    "        # Get the full path of the file\n",
    "        file_path = os.path.join(src_folder, file)\n",
    "        # Move the file to the destination folder\n",
    "        shutil.move(file_path, dest_folder)\n"
   ]
  },
  {
   "cell_type": "code",
   "execution_count": 20,
   "metadata": {},
   "outputs": [],
   "source": [
    "# remove all happy folders in the all folders folder\n",
    "for folder in folders:\n",
    "  for class_ in classes:\n",
    "   shutil.rmtree(r\"C:\\Users\\kings\\OneDrive - MMU\\MSC DATA SCIENCE\\MSC Project\\datasets\\ckplus\\ckplus_train_val_test\" +\"\\\\\" + folder + \"\\\\\" + class_)"
   ]
  },
  {
   "cell_type": "markdown",
   "metadata": {},
   "source": [
    "# CKplus Dataset MEdiapipe\n",
    "## create a positive, neutral, and negative folder for each datasets and subfolders\n",
    "\n",
    "* Positive >> Happy\n",
    "* Neutral >>> Neutral\n",
    "* Negative >> Sad, Disgust, Fear, Contempt, Anger\n",
    "  \n",
    "### move all images from each class folder into its corresponding folder"
   ]
  },
  {
   "cell_type": "code",
   "execution_count": 22,
   "metadata": {},
   "outputs": [],
   "source": [
    "folders = ['train','val', 'test']"
   ]
  },
  {
   "cell_type": "markdown",
   "metadata": {},
   "source": [
    "#### move happy images into positive"
   ]
  },
  {
   "cell_type": "code",
   "execution_count": 23,
   "metadata": {},
   "outputs": [],
   "source": [
    "for folder in folders:\n",
    "  # Loop through all folders\n",
    "  src_folder = r\"C:\\Users\\kings\\OneDrive - MMU\\MSC DATA SCIENCE\\MSC Project\\datasets\\ckplus_mediapipe\\ckplus_train_val_test\" + \"\\\\\" + folder +  \"\\\\\" + \"happy\"\n",
    "  dest_folder = r\"C:\\Users\\kings\\OneDrive - MMU\\MSC DATA SCIENCE\\MSC Project\\datasets\\ckplus_mediapipe\\ckplus_train_val_test\" + \"\\\\\" + folder + \"\\\\\" + \"positive\"\n",
    "  \n",
    "  # move all images from each class folder into a combine folder\n",
    "  os.makedirs(r\"C:\\Users\\kings\\OneDrive - MMU\\MSC DATA SCIENCE\\MSC Project\\datasets\\ckplus_mediapipe\\ckplus_train_val_test\" + \"\\\\\" + folder + \"\\\\\" + \"positive\", exist_ok=True) # make a new directory \n",
    "  # Get all files in the source folder\n",
    "  files = os.listdir(src_folder)\n",
    "  # Loop through all the files and move them to the destination folder\n",
    "  for file in files:\n",
    "      # Get the full path of the file\n",
    "      file_path = os.path.join(src_folder, file)\n",
    "      # Move the file to the destination folder\n",
    "      shutil.move(file_path, dest_folder)\n"
   ]
  },
  {
   "cell_type": "code",
   "execution_count": 24,
   "metadata": {},
   "outputs": [],
   "source": [
    "# remove all happy folders in the all folders folder\n",
    "for folder in folders:\n",
    "  shutil.rmtree(r\"C:\\Users\\kings\\OneDrive - MMU\\MSC DATA SCIENCE\\MSC Project\\datasets\\ckplus_mediapipe\\ckplus_train_val_test\" +\"\\\\\" + folder + \"\\\\\" + \"happy\")"
   ]
  },
  {
   "cell_type": "markdown",
   "metadata": {},
   "source": [
    "#### move sad,disgust,fear,contempt,anger images into negative"
   ]
  },
  {
   "cell_type": "code",
   "execution_count": 25,
   "metadata": {},
   "outputs": [],
   "source": [
    "classes = ['sad','disgust','fear','contempt','anger']"
   ]
  },
  {
   "cell_type": "code",
   "execution_count": 26,
   "metadata": {},
   "outputs": [],
   "source": [
    "for folder in folders:\n",
    "  for class_ in classes:\n",
    "    # Loop through all folders\n",
    "    src_folder = r\"C:\\Users\\kings\\OneDrive - MMU\\MSC DATA SCIENCE\\MSC Project\\datasets\\ckplus_mediapipe\\ckplus_train_val_test\" + \"\\\\\" + folder +  \"\\\\\" + class_\n",
    "    dest_folder = r\"C:\\Users\\kings\\OneDrive - MMU\\MSC DATA SCIENCE\\MSC Project\\datasets\\ckplus_mediapipe\\ckplus_train_val_test\" + \"\\\\\" + folder + \"\\\\\" + \"negative\"\n",
    "    \n",
    "    # move all images from each class folder into a combine folder\n",
    "    os.makedirs(r\"C:\\Users\\kings\\OneDrive - MMU\\MSC DATA SCIENCE\\MSC Project\\datasets\\ckplus_mediapipe\\ckplus_train_val_test\" + \"\\\\\" + folder + \"\\\\\" + \"negative\", exist_ok=True) # make a new directory \n",
    "    # Get all files in the source folder\n",
    "    files = os.listdir(src_folder)\n",
    "    # Loop through all the files and move them to the destination folder\n",
    "    for file in files:\n",
    "        # Get the full path of the file\n",
    "        file_path = os.path.join(src_folder, file)\n",
    "        # Move the file to the destination folder\n",
    "        shutil.move(file_path, dest_folder)\n"
   ]
  },
  {
   "cell_type": "code",
   "execution_count": 27,
   "metadata": {},
   "outputs": [],
   "source": [
    "# remove all happy folders in the all folders folder\n",
    "for folder in folders:\n",
    "  for class_ in classes:\n",
    "   shutil.rmtree(r\"C:\\Users\\kings\\OneDrive - MMU\\MSC DATA SCIENCE\\MSC Project\\datasets\\ckplus_mediapipe\\ckplus_train_val_test\" +\"\\\\\" + folder + \"\\\\\" + class_)"
   ]
  },
  {
   "cell_type": "markdown",
   "metadata": {},
   "source": [
    "# KDEF Dataset\n",
    "## create a positive, neutral, and negative folder for each datasets and subfolders\n",
    "\n",
    "* Positive >> Happy\n",
    "* Neutral >>> Neutral\n",
    "* Negative >> Sad, Disgust, Fear, Contempt, Anger\n",
    "  \n",
    "### move all images from each class folder into its corresponding folder"
   ]
  },
  {
   "cell_type": "code",
   "execution_count": 35,
   "metadata": {},
   "outputs": [],
   "source": [
    "folders = ['train','val', 'test']"
   ]
  },
  {
   "cell_type": "markdown",
   "metadata": {},
   "source": [
    "#### move happy images into positive"
   ]
  },
  {
   "cell_type": "code",
   "execution_count": 36,
   "metadata": {},
   "outputs": [],
   "source": [
    "for folder in folders:\n",
    "  # Loop through all folders\n",
    "  src_folder = r\"C:\\Users\\kings\\OneDrive - MMU\\MSC DATA SCIENCE\\MSC Project\\datasets\\kdef\\kdef_train_val_test\" + \"\\\\\" + folder +  \"\\\\\" + \"happy\"\n",
    "  dest_folder = r\"C:\\Users\\kings\\OneDrive - MMU\\MSC DATA SCIENCE\\MSC Project\\datasets\\kdef\\kdef_train_val_test\" + \"\\\\\" + folder + \"\\\\\" + \"positive\"\n",
    "  \n",
    "  # move all images from each class folder into a combine folder\n",
    "  os.makedirs(r\"C:\\Users\\kings\\OneDrive - MMU\\MSC DATA SCIENCE\\MSC Project\\datasets\\kdef\\kdef_train_val_test\" + \"\\\\\" + folder + \"\\\\\" + \"positive\", exist_ok=True) # make a new directory \n",
    "  # Get all files in the source folder\n",
    "  files = os.listdir(src_folder)\n",
    "  # Loop through all the files and move them to the destination folder\n",
    "  for file in files:\n",
    "      # Get the full path of the file\n",
    "      file_path = os.path.join(src_folder, file)\n",
    "      # Move the file to the destination folder\n",
    "      shutil.move(file_path, dest_folder)\n"
   ]
  },
  {
   "cell_type": "code",
   "execution_count": 30,
   "metadata": {},
   "outputs": [],
   "source": [
    "# remove all happy folders in the all folders folder\n",
    "for folder in folders:\n",
    "  shutil.rmtree(r\"C:\\Users\\kings\\OneDrive - MMU\\MSC DATA SCIENCE\\MSC Project\\datasets\\kdef\\kdef_train_val_test\" +\"\\\\\" + folder + \"\\\\\" + \"happy\")"
   ]
  },
  {
   "cell_type": "markdown",
   "metadata": {},
   "source": [
    "#### move sad,disgust,fear,contempt,anger images into negative"
   ]
  },
  {
   "cell_type": "code",
   "execution_count": 31,
   "metadata": {},
   "outputs": [],
   "source": [
    "classes = ['sad','disgust','fear','contempt','anger']"
   ]
  },
  {
   "cell_type": "code",
   "execution_count": 32,
   "metadata": {},
   "outputs": [],
   "source": [
    "for folder in folders:\n",
    "  for class_ in classes:\n",
    "    # Loop through all folders\n",
    "    src_folder = r\"C:\\Users\\kings\\OneDrive - MMU\\MSC DATA SCIENCE\\MSC Project\\datasets\\kdef\\kdef_train_val_test\" + \"\\\\\" + folder +  \"\\\\\" + class_\n",
    "    dest_folder = r\"C:\\Users\\kings\\OneDrive - MMU\\MSC DATA SCIENCE\\MSC Project\\datasets\\kdef\\kdef_train_val_test\" + \"\\\\\" + folder + \"\\\\\" + \"negative\"\n",
    "    \n",
    "    # move all images from each class folder into a combine folder\n",
    "    os.makedirs(r\"C:\\Users\\kings\\OneDrive - MMU\\MSC DATA SCIENCE\\MSC Project\\datasets\\kdef\\kdef_train_val_test\" + \"\\\\\" + folder + \"\\\\\" + \"negative\", exist_ok=True) # make a new directory \n",
    "    # Get all files in the source folder\n",
    "    files = os.listdir(src_folder)\n",
    "    # Loop through all the files and move them to the destination folder\n",
    "    for file in files:\n",
    "        # Get the full path of the file\n",
    "        file_path = os.path.join(src_folder, file)\n",
    "        # Move the file to the destination folder\n",
    "        shutil.move(file_path, dest_folder)\n"
   ]
  },
  {
   "cell_type": "code",
   "execution_count": 33,
   "metadata": {},
   "outputs": [],
   "source": [
    "# remove all happy folders in the all folders folder\n",
    "for folder in folders:\n",
    "  for class_ in classes:\n",
    "   shutil.rmtree(r\"C:\\Users\\kings\\OneDrive - MMU\\MSC DATA SCIENCE\\MSC Project\\datasets\\kdef\\kdef_train_val_test\" +\"\\\\\" + folder + \"\\\\\" + class_)"
   ]
  },
  {
   "cell_type": "code",
   "execution_count": null,
   "metadata": {},
   "outputs": [],
   "source": []
  }
 ],
 "metadata": {
  "kernelspec": {
   "display_name": "base",
   "language": "python",
   "name": "python3"
  },
  "language_info": {
   "codemirror_mode": {
    "name": "ipython",
    "version": 3
   },
   "file_extension": ".py",
   "mimetype": "text/x-python",
   "name": "python",
   "nbconvert_exporter": "python",
   "pygments_lexer": "ipython3",
   "version": "3.10.8"
  },
  "orig_nbformat": 4
 },
 "nbformat": 4,
 "nbformat_minor": 2
}
