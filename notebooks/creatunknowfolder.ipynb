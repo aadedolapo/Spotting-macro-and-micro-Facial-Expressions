{
 "cells": [
  {
   "cell_type": "code",
   "execution_count": 1,
   "metadata": {},
   "outputs": [],
   "source": [
    "import os\n",
    "import shutil"
   ]
  },
  {
   "cell_type": "markdown",
   "metadata": {},
   "source": [
    "# FER\n",
    "### Rename all images in the test folder with the prefix of the each classes"
   ]
  },
  {
   "cell_type": "code",
   "execution_count": 3,
   "metadata": {},
   "outputs": [],
   "source": [
    "# Combine these classes into one folC:\\Users\\kings\\OneDrive - MMU\\MSC DATA SCIENCE\\MSC Project\\datasets\\fer_train_val_test\\fer_train_val_test\\testder\n",
    "directory = r\"C:\\Users\\kings\\OneDrive - MMU\\MSC DATA SCIENCE\\MSC Project\\datasets\\fer\\fer_train_val_test\\train\"\n",
    "for folder in os.listdir(directory):\n",
    "    directory = r\"C:\\Users\\kings\\OneDrive - MMU\\MSC DATA SCIENCE\\MSC Project\\datasets\\fer\\fer_train_val_test\\test\" +\"\\\\\" + folder # each class folder in the test folder\n",
    "    extension = \".jpg\"  # extension type we are looking for\n",
    "    count = 0 # initial count of images in the test folder\n",
    "    for filename in os.listdir(directory):\n",
    "        if filename.endswith(extension):\n",
    "            new_filename = f\"{folder}_{count}{extension}\"\n",
    "            os.rename(os.path.join(directory, filename), os.path.join(directory, new_filename))\n",
    "            count += 1"
   ]
  },
  {
   "cell_type": "code",
   "execution_count": 4,
   "metadata": {},
   "outputs": [],
   "source": [
    "folders = os.listdir(r\"C:\\Users\\kings\\OneDrive - MMU\\MSC DATA SCIENCE\\MSC Project\\datasets\\fer\\fer_train_val_test\\train\")"
   ]
  },
  {
   "cell_type": "markdown",
   "metadata": {},
   "source": [
    "### move all images from each class folder into a test/Unknown folder"
   ]
  },
  {
   "cell_type": "code",
   "execution_count": 5,
   "metadata": {},
   "outputs": [],
   "source": [
    "# move all images from each class folder into a combine folder\n",
    "os.makedirs(r\"C:\\Users\\kings\\OneDrive - MMU\\MSC DATA SCIENCE\\MSC Project\\datasets\\fer\\fer_train_val_test\\test\\Unknown\",exist_ok=True) # make a new directory \n",
    "for folder in folders:\n",
    "  # Loop through all folders\n",
    "  src_folder = r\"C:\\Users\\kings\\OneDrive - MMU\\MSC DATA SCIENCE\\MSC Project\\datasets\\fer\\fer_train_val_test\\test\" + \"\\\\\" + folder\n",
    "  dest_folder = r\"C:\\Users\\kings\\OneDrive - MMU\\MSC DATA SCIENCE\\MSC Project\\datasets\\fer\\fer_train_val_test\\test\\Unknown\"\n",
    "  # Get all files in the source folder\n",
    "  files = os.listdir(src_folder)\n",
    "  # Loop through all the files and move them to the destination folder\n",
    "  for file in files:\n",
    "      # Get the full path of the file\n",
    "      file_path = os.path.join(src_folder, file)\n",
    "      # Move the file to the destination folder\n",
    "      shutil.move(file_path, dest_folder)\n"
   ]
  },
  {
   "cell_type": "code",
   "execution_count": 5,
   "metadata": {},
   "outputs": [],
   "source": [
    "# remove all class folders in the test folder\n",
    "for folder in folders:\n",
    "  shutil.rmtree(r\"C:\\Users\\kings\\OneDrive - MMU\\MSC DATA SCIENCE\\MSC Project\\datasets\\fer\\fer_train_val_test\\test\" +\"\\\\\" + folder)"
   ]
  },
  {
   "cell_type": "markdown",
   "metadata": {},
   "source": [
    "# FER MEdiapipe\n",
    "### Rename all images in the test folder with the prefix of the each classes"
   ]
  },
  {
   "cell_type": "code",
   "execution_count": 2,
   "metadata": {},
   "outputs": [],
   "source": [
    "# Combine these classes into one folC:\\Users\\kings\\OneDrive - MMU\\MSC DATA SCIENCE\\MSC Project\\datasets\\fer_train_val_test\\fer_train_val_test\\testder\n",
    "directory = r\"C:\\Users\\kings\\OneDrive - MMU\\MSC DATA SCIENCE\\MSC Project\\datasets\\fer_mediapipe\\fer_train_val_test\\train\"\n",
    "for folder in os.listdir(directory):\n",
    "    directory = r\"C:\\Users\\kings\\OneDrive - MMU\\MSC DATA SCIENCE\\MSC Project\\datasets\\fer_mediapipe\\fer_train_val_test\\test\" +\"\\\\\" + folder # each class folder in the test folder\n",
    "    extension = \".jpg\"  # extension type we are looking for\n",
    "    count = 0 # initial count of images in the test folder\n",
    "    for filename in os.listdir(directory):\n",
    "        if filename.endswith(extension):\n",
    "            new_filename = f\"{folder}_{count}{extension}\"\n",
    "            os.rename(os.path.join(directory, filename), os.path.join(directory, new_filename))\n",
    "            count += 1"
   ]
  },
  {
   "cell_type": "code",
   "execution_count": 3,
   "metadata": {},
   "outputs": [],
   "source": [
    "folders = os.listdir(r\"C:\\Users\\kings\\OneDrive - MMU\\MSC DATA SCIENCE\\MSC Project\\datasets\\fer_mediapipe\\fer_train_val_test\\train\")"
   ]
  },
  {
   "cell_type": "markdown",
   "metadata": {},
   "source": [
    "### move all images from each class folder into a test/Unknown folder"
   ]
  },
  {
   "cell_type": "code",
   "execution_count": 4,
   "metadata": {},
   "outputs": [],
   "source": [
    "# move all images from each class folder into a combine folder\n",
    "os.makedirs(r\"C:\\Users\\kings\\OneDrive - MMU\\MSC DATA SCIENCE\\MSC Project\\datasets\\fer_mediapipe\\fer_train_val_test\\test\\Unknown\",exist_ok=True) # make a new directory \n",
    "for folder in folders:\n",
    "  # Loop through all folders\n",
    "  src_folder = r\"C:\\Users\\kings\\OneDrive - MMU\\MSC DATA SCIENCE\\MSC Project\\datasets\\fer_mediapipe\\fer_train_val_test\\test\" + \"\\\\\" + folder\n",
    "  dest_folder = r\"C:\\Users\\kings\\OneDrive - MMU\\MSC DATA SCIENCE\\MSC Project\\datasets\\fer_mediapipe\\fer_train_val_test\\test\\Unknown\"\n",
    "  # Get all files in the source folder\n",
    "  files = os.listdir(src_folder)\n",
    "  # Loop through all the files and move them to the destination folder\n",
    "  for file in files:\n",
    "      # Get the full path of the file\n",
    "      file_path = os.path.join(src_folder, file)\n",
    "      # Move the file to the destination folder\n",
    "      shutil.move(file_path, dest_folder)\n"
   ]
  },
  {
   "cell_type": "code",
   "execution_count": 5,
   "metadata": {},
   "outputs": [],
   "source": [
    "# remove all class folders in the test folder\n",
    "for folder in folders:\n",
    "  shutil.rmtree(r\"C:\\Users\\kings\\OneDrive - MMU\\MSC DATA SCIENCE\\MSC Project\\datasets\\fer_mediapipe\\fer_train_val_test\\test\" +\"\\\\\" + folder)"
   ]
  },
  {
   "cell_type": "markdown",
   "metadata": {},
   "source": [
    "# CK plus\n",
    "### Rename all images in the test folder with the prefix of the each classes"
   ]
  },
  {
   "cell_type": "code",
   "execution_count": 11,
   "metadata": {},
   "outputs": [],
   "source": [
    "# Combine these classes into one folC:\\Users\\kings\\OneDrive - MMU\\MSC DATA SCIENCE\\MSC Project\\datasets\\fer_train_val_test\\fer_train_val_test\\testder\n",
    "directory = r\"C:\\Users\\kings\\OneDrive - MMU\\MSC DATA SCIENCE\\MSC Project\\datasets\\ckplus\\ckplus_train_val_test\\train\"\n",
    "for folder in os.listdir(directory):\n",
    "    directory = r\"C:\\Users\\kings\\OneDrive - MMU\\MSC DATA SCIENCE\\MSC Project\\datasets\\ckplus\\ckplus_train_val_test\\test\" +\"\\\\\" + folder # each class folder in the test folder\n",
    "    extension = \".jpg\"  # extension type we are looking for\n",
    "    count = 0 # initial count of images in the test folder\n",
    "    for filename in os.listdir(directory):\n",
    "        if filename.endswith(extension):\n",
    "            new_filename = f\"ck_{folder}_{count}{extension}\"\n",
    "            os.rename(os.path.join(directory, filename), os.path.join(directory, new_filename))\n",
    "            count += 1"
   ]
  },
  {
   "cell_type": "code",
   "execution_count": 12,
   "metadata": {},
   "outputs": [],
   "source": [
    "folders = os.listdir(r\"C:\\Users\\kings\\OneDrive - MMU\\MSC DATA SCIENCE\\MSC Project\\datasets\\ckplus\\ckplus_train_val_test\\train\")"
   ]
  },
  {
   "cell_type": "markdown",
   "metadata": {},
   "source": [
    "### move all images from each class folder into a test/Unknown folder"
   ]
  },
  {
   "cell_type": "code",
   "execution_count": 13,
   "metadata": {},
   "outputs": [],
   "source": [
    "# move all images from each class folder into a combine folder\n",
    "os.makedirs(r\"C:\\Users\\kings\\OneDrive - MMU\\MSC DATA SCIENCE\\MSC Project\\datasets\\ckplus\\ckplus_train_val_test\\test\\Unknown\",exist_ok=True) # make a new directory \n",
    "for folder in folders:\n",
    "  # Loop through all folders\n",
    "  src_folder = r\"C:\\Users\\kings\\OneDrive - MMU\\MSC DATA SCIENCE\\MSC Project\\datasets\\ckplus\\ckplus_train_val_test\\test\" + \"\\\\\" + folder\n",
    "  dest_folder = r\"C:\\Users\\kings\\OneDrive - MMU\\MSC DATA SCIENCE\\MSC Project\\datasets\\ckplus\\ckplus_train_val_test\\test\\Unknown\"\n",
    "  # Get all files in the source folder\n",
    "  files = os.listdir(src_folder)\n",
    "  # Loop through all the files and move them to the destination folder\n",
    "  for file in files:\n",
    "      # Get the full path of the file\n",
    "      file_path = os.path.join(src_folder, file)\n",
    "      # Move the file to the destination folder\n",
    "      shutil.move(file_path, dest_folder)\n"
   ]
  },
  {
   "cell_type": "code",
   "execution_count": 14,
   "metadata": {},
   "outputs": [],
   "source": [
    "# remove all class folders in the test folder\n",
    "for folder in folders:\n",
    "  shutil.rmtree(r\"C:\\Users\\kings\\OneDrive - MMU\\MSC DATA SCIENCE\\MSC Project\\datasets\\ckplus\\ckplus_train_val_test\\test\" +\"\\\\\" + folder)"
   ]
  },
  {
   "cell_type": "markdown",
   "metadata": {},
   "source": [
    "# CK mediapipe\n",
    "### Rename all images in the test folder with the prefix of the each classes"
   ]
  },
  {
   "cell_type": "code",
   "execution_count": 15,
   "metadata": {},
   "outputs": [],
   "source": [
    "# Combine these classes into one folC:\\Users\\kings\\OneDrive - MMU\\MSC DATA SCIENCE\\MSC Project\\datasets\\fer_train_val_test\\fer_train_val_test\\testder\n",
    "directory = r\"C:\\Users\\kings\\OneDrive - MMU\\MSC DATA SCIENCE\\MSC Project\\datasets\\ckplus_mediapipe\\ckplus_train_val_test\\train\"\n",
    "for folder in os.listdir(directory):\n",
    "    directory = r\"C:\\Users\\kings\\OneDrive - MMU\\MSC DATA SCIENCE\\MSC Project\\datasets\\ckplus_mediapipe\\ckplus_train_val_test\\test\" +\"\\\\\" + folder # each class folder in the test folder\n",
    "    extension = \".jpg\"  # extension type we are looking for\n",
    "    count = 0 # initial count of images in the test folder\n",
    "    for filename in os.listdir(directory):\n",
    "        if filename.endswith(extension):\n",
    "            new_filename = f\"ck_{folder}_{count}{extension}\"\n",
    "            os.rename(os.path.join(directory, filename), os.path.join(directory, new_filename))\n",
    "            count += 1"
   ]
  },
  {
   "cell_type": "code",
   "execution_count": 16,
   "metadata": {},
   "outputs": [],
   "source": [
    "folders = os.listdir(r\"C:\\Users\\kings\\OneDrive - MMU\\MSC DATA SCIENCE\\MSC Project\\datasets\\ckplus_mediapipe\\ckplus_train_val_test\\train\")"
   ]
  },
  {
   "cell_type": "markdown",
   "metadata": {},
   "source": [
    "### move all images from each class folder into a test/Unknown folder"
   ]
  },
  {
   "cell_type": "code",
   "execution_count": null,
   "metadata": {},
   "outputs": [],
   "source": [
    "# move all images from each class folder into a combine folder\n",
    "os.makedirs(r\"C:\\Users\\kings\\OneDrive - MMU\\MSC DATA SCIENCE\\MSC Project\\datasets\\ckplus_mediapipe\\ckplus_train_val_test\\test\\Unknown\",exist_ok=True) # make a new directory \n",
    "for folder in folders:\n",
    "  # Loop through all folders\n",
    "  src_folder = r\"C:\\Users\\kings\\OneDrive - MMU\\MSC DATA SCIENCE\\MSC Project\\datasets\\ckplus_mediapipe\\ckplus_train_val_test\\test\" + \"\\\\\" + folder\n",
    "  dest_folder = r\"C:\\Users\\kings\\OneDrive - MMU\\MSC DATA SCIENCE\\MSC Project\\datasets\\ckplus_mediapipe\\ckplus_train_val_test\\test\\Unknown\"\n",
    "  # Get all files in the source folder\n",
    "  files = os.listdir(src_folder)\n",
    "  # Loop through all the files and move them to the destination folder\n",
    "  for file in files:\n",
    "      # Get the full path of the file\n",
    "      file_path = os.path.join(src_folder, file)\n",
    "      # Move the file to the destination folder\n",
    "      shutil.move(file_path, dest_folder)\n"
   ]
  },
  {
   "cell_type": "code",
   "execution_count": null,
   "metadata": {},
   "outputs": [],
   "source": [
    "# remove all class folders in the test folder\n",
    "for folder in folders:\n",
    "  shutil.rmtree(r\"C:\\Users\\kings\\OneDrive - MMU\\MSC DATA SCIENCE\\MSC Project\\datasets\\ckplus_mediapipe\\ckplus_train_val_test\\test\" +\"\\\\\" + folder)"
   ]
  },
  {
   "cell_type": "markdown",
   "metadata": {},
   "source": [
    "# KDEF\n",
    "### Rename all images in the test folder with the prefix of the each classes"
   ]
  },
  {
   "cell_type": "code",
   "execution_count": 22,
   "metadata": {},
   "outputs": [],
   "source": [
    "# Combine these classes into one folC:\\Users\\kings\\OneDrive - MMU\\MSC DATA SCIENCE\\MSC Project\\datasets\\fer_train_val_test\\fer_train_val_test\\testder\n",
    "directory = r\"C:\\Users\\kings\\OneDrive - MMU\\MSC DATA SCIENCE\\MSC Project\\datasets\\kdef\\kdef_train_val_test\\train\"\n",
    "for folder in os.listdir(directory):\n",
    "    directory = r\"C:\\Users\\kings\\OneDrive - MMU\\MSC DATA SCIENCE\\MSC Project\\datasets\\kdef\\kdef_train_val_test\\test\" +\"\\\\\" + folder # each class folder in the test folder\n",
    "    extension = \".jpg\"  # extension type we are looking for\n",
    "    count = 0 # initial count of images in the test folder\n",
    "    for filename in os.listdir(directory):\n",
    "        if filename.endswith(extension):\n",
    "            new_filename = f\"kdef_{folder}_{count}{extension}\"\n",
    "            os.rename(os.path.join(directory, filename), os.path.join(directory, new_filename))\n",
    "            count += 1"
   ]
  },
  {
   "cell_type": "code",
   "execution_count": null,
   "metadata": {},
   "outputs": [],
   "source": [
    "folders = os.listdir(r\"C:\\Users\\kings\\OneDrive - MMU\\MSC DATA SCIENCE\\MSC Project\\datasets\\kdef\\kdef_train_val_test\\train\")"
   ]
  },
  {
   "cell_type": "markdown",
   "metadata": {},
   "source": [
    "### move all images from each class folder into a test/Unknown folder"
   ]
  },
  {
   "cell_type": "code",
   "execution_count": 19,
   "metadata": {},
   "outputs": [],
   "source": [
    "# move all images from each class folder into a combine folder\n",
    "os.makedirs(r\"C:\\Users\\kings\\OneDrive - MMU\\MSC DATA SCIENCE\\MSC Project\\datasets\\kdef\\kdef_train_val_test\\test\\Unknown\",exist_ok=True) # make a new directory \n",
    "for folder in folders:\n",
    "  # Loop through all folders\n",
    "  src_folder = r\"C:\\Users\\kings\\OneDrive - MMU\\MSC DATA SCIENCE\\MSC Project\\datasets\\kdef\\kdef_train_val_test\\test\" + \"\\\\\" + folder\n",
    "  dest_folder = r\"C:\\Users\\kings\\OneDrive - MMU\\MSC DATA SCIENCE\\MSC Project\\datasets\\kdef\\kdef_train_val_test\\test\\Unknown\"\n",
    "  # Get all files in the source folder\n",
    "  files = os.listdir(src_folder)\n",
    "  # Loop through all the files and move them to the destination folder\n",
    "  for file in files:\n",
    "      # Get the full path of the file\n",
    "      file_path = os.path.join(src_folder, file)\n",
    "      # Move the file to the destination folder\n",
    "      shutil.move(file_path, dest_folder)\n"
   ]
  },
  {
   "cell_type": "code",
   "execution_count": 20,
   "metadata": {},
   "outputs": [],
   "source": [
    "# remove all class folders in the test folder\n",
    "for folder in folders:\n",
    "  shutil.rmtree(r\"C:\\Users\\kings\\OneDrive - MMU\\MSC DATA SCIENCE\\MSC Project\\datasets\\kdef\\kdef_train_val_test\\test\" +\"\\\\\" + folder)"
   ]
  },
  {
   "cell_type": "markdown",
   "metadata": {},
   "source": [
    "# FFHQ\n",
    "### Rename all images in the test folder with the prefix of the each classes"
   ]
  },
  {
   "cell_type": "code",
   "execution_count": 14,
   "metadata": {},
   "outputs": [],
   "source": [
    "# Combine these classes into one folC:\\Users\\kings\\OneDrive - MMU\\MSC DATA SCIENCE\\MSC Project\\datasets\\fer_train_val_test\\fer_train_val_test\\testder\n",
    "directory = r\"C:\\Users\\kings\\OneDrive - MMU\\MSC DATA SCIENCE\\MSC Project\\datasets\\ffhq_train_val_test\\ffhq_train_val_test\\train\"\n",
    "for folder in os.listdir(directory):\n",
    "    directory = r\"C:\\Users\\kings\\OneDrive - MMU\\MSC DATA SCIENCE\\MSC Project\\datasets\\ffhq_train_val_test\\ffhq_train_val_test\\test\" +\"\\\\\" + folder # each class folder in the test folder\n",
    "    extension = \".jpg\"  # extension type we are looking for\n",
    "    count = 0 # initial count of images in the test folder\n",
    "    for filename in os.listdir(directory):\n",
    "        if filename.endswith(extension):\n",
    "            new_filename = f\"{folder}_{count}{extension}\"\n",
    "            os.rename(os.path.join(directory, filename), os.path.join(directory, new_filename))\n",
    "            count += 1"
   ]
  },
  {
   "cell_type": "code",
   "execution_count": 15,
   "metadata": {},
   "outputs": [],
   "source": [
    "folders = os.listdir(r\"C:\\Users\\kings\\OneDrive - MMU\\MSC DATA SCIENCE\\MSC Project\\datasets\\ffhq_train_val_test\\ffhq_train_val_test\\train\")"
   ]
  },
  {
   "cell_type": "markdown",
   "metadata": {},
   "source": [
    "### move all images from each class folder into a test/Unknown folder"
   ]
  },
  {
   "cell_type": "code",
   "execution_count": 16,
   "metadata": {},
   "outputs": [],
   "source": [
    "# move all images from each class folder into a combine folder\n",
    "os.makedirs(r\"C:\\Users\\kings\\OneDrive - MMU\\MSC DATA SCIENCE\\MSC Project\\datasets\\ffhq_train_val_test\\ffhq_train_val_test\\test\\Unknown\",exist_ok=True) # make a new directory \n",
    "for folder in folders:\n",
    "  # Loop through all folders\n",
    "  src_folder = r\"C:\\Users\\kings\\OneDrive - MMU\\MSC DATA SCIENCE\\MSC Project\\datasets\\ffhq_train_val_test\\ffhq_train_val_test\\test\" + \"\\\\\" + folder\n",
    "  dest_folder = r\"C:\\Users\\kings\\OneDrive - MMU\\MSC DATA SCIENCE\\MSC Project\\datasets\\ffhq_train_val_test\\ffhq_train_val_test\\test\\Unknown\"\n",
    "  # Get all files in the source folder\n",
    "  files = os.listdir(src_folder)\n",
    "  # Loop through all the files and move them to the destination folder\n",
    "  for file in files:\n",
    "      # Get the full path of the file\n",
    "      file_path = os.path.join(src_folder, file)\n",
    "      # Move the file to the destination folder\n",
    "      shutil.move(file_path, dest_folder)\n"
   ]
  },
  {
   "cell_type": "code",
   "execution_count": 17,
   "metadata": {},
   "outputs": [],
   "source": [
    "# remove all class folders in the test folder\n",
    "for folder in folders:\n",
    "  shutil.rmtree(r\"C:\\Users\\kings\\OneDrive - MMU\\MSC DATA SCIENCE\\MSC Project\\datasets\\ffhq_train_val_test\\ffhq_train_val_test\\test\" +\"\\\\\" + folder)"
   ]
  },
  {
   "cell_type": "markdown",
   "metadata": {},
   "source": [
    "# AffectNet\n",
    "### Rename all images in the test folder with the prefix of the each classes"
   ]
  },
  {
   "cell_type": "code",
   "execution_count": 2,
   "metadata": {},
   "outputs": [],
   "source": [
    "# Combine these classes into one folC:\\Users\\kings\\OneDrive - MMU\\MSC DATA SCIENCE\\MSC Project\\datasets\\affectnet_train_val_test\\affectnet_train_val_test\\testder\n",
    "directory = r\"C:\\Users\\kings\\OneDrive - MMU\\MSC DATA SCIENCE\\MSC Project\\datasets\\affectnet_train_val_test\\affectnet_train_val_test\\train\"\n",
    "for folder in os.listdir(directory):\n",
    "    directory = r\"C:\\Users\\kings\\OneDrive - MMU\\MSC DATA SCIENCE\\MSC Project\\datasets\\affectnet_train_val_test\\affectnet_train_val_test\\test\" +\"\\\\\" + folder # each class folder in the test folder\n",
    "    extension = \".jpg\"  # extension type we are looking for\n",
    "    count = 0 # initial count of images in the test folder\n",
    "    for filename in os.listdir(directory):\n",
    "        if filename.endswith(extension):\n",
    "            new_filename = f\"{folder}_{count}{extension}\"\n",
    "            os.rename(os.path.join(directory, filename), os.path.join(directory, new_filename))\n",
    "            count += 1"
   ]
  },
  {
   "cell_type": "code",
   "execution_count": 3,
   "metadata": {},
   "outputs": [],
   "source": [
    "folders = os.listdir(r\"C:\\Users\\kings\\OneDrive - MMU\\MSC DATA SCIENCE\\MSC Project\\datasets\\affectnet_train_val_test\\affectnet_train_val_test\\train\")"
   ]
  },
  {
   "cell_type": "markdown",
   "metadata": {},
   "source": [
    "### move all images from each class folder into a test/Unknown folder"
   ]
  },
  {
   "cell_type": "code",
   "execution_count": null,
   "metadata": {},
   "outputs": [],
   "source": [
    "# move all images from each class folder into a combine folder\n",
    "os.makedirs(r\"C:\\Users\\kings\\OneDrive - MMU\\MSC DATA SCIENCE\\MSC Project\\datasets\\affectnet_train_val_test\\affectnet_train_val_test\\test\\Unknown\",exist_ok=True) # make a new directory \n",
    "for folder in folders:\n",
    "  # Loop through all folders\n",
    "  src_folder = r\"C:\\Users\\kings\\OneDrive - MMU\\MSC DATA SCIENCE\\MSC Project\\datasets\\affectnet_train_val_test\\affectnet_train_val_test\\test\" + \"\\\\\" + folder\n",
    "  dest_folder = r\"C:\\Users\\kings\\OneDrive - MMU\\MSC DATA SCIENCE\\MSC Project\\datasets\\affectnet_train_val_test\\affectnet_train_val_test\\test\\Unknown\"\n",
    "  # Get all files in the source folder\n",
    "  files = os.listdir(src_folder)\n",
    "  # Loop through all the files and move them to the destination folder\n",
    "  for file in files:\n",
    "      # Get the full path of the file\n",
    "      file_path = os.path.join(src_folder, file)\n",
    "      # Move the file to the destination folder\n",
    "      shutil.move(file_path, dest_folder)\n"
   ]
  },
  {
   "cell_type": "code",
   "execution_count": 5,
   "metadata": {},
   "outputs": [],
   "source": [
    "# remove all class folders in the test folder\n",
    "for folder in folders:\n",
    "  shutil.rmtree(r\"C:\\Users\\kings\\OneDrive - MMU\\MSC DATA SCIENCE\\MSC Project\\datasets\\affectnet_train_val_test\\affectnet_train_val_test\\test\" +\"\\\\\" + folder)"
   ]
  },
  {
   "cell_type": "code",
   "execution_count": null,
   "metadata": {},
   "outputs": [],
   "source": []
  }
 ],
 "metadata": {
  "kernelspec": {
   "display_name": "base",
   "language": "python",
   "name": "python3"
  },
  "language_info": {
   "codemirror_mode": {
    "name": "ipython",
    "version": 3
   },
   "file_extension": ".py",
   "mimetype": "text/x-python",
   "name": "python",
   "nbconvert_exporter": "python",
   "pygments_lexer": "ipython3",
   "version": "3.10.8"
  },
  "orig_nbformat": 4
 },
 "nbformat": 4,
 "nbformat_minor": 2
}
